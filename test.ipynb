{
 "cells": [
  {
   "cell_type": "code",
   "execution_count": 2,
   "metadata": {},
   "outputs": [],
   "source": [
    "import matplotlib.pyplot as plt\n",
    "from src.datasets.vindr import VindrLesionDataset\n",
    "from src.pipeline.breast import BreastImageProcessingPipeline\n",
    "\n",
    "pipeline = BreastImageProcessingPipeline()\n",
    "train_dataset = VindrLesionDataset('/media/nvidia/DATA/Data/vindr_mammo/', pipeline, True)\n",
    "test_dataset = VindrLesionDataset('/media/nvidia/DATA/Data/vindr_mammo/', pipeline, False)"
   ]
  }
 ],
 "metadata": {
  "kernelspec": {
   "display_name": "snnTorch",
   "language": "python",
   "name": "python3"
  },
  "language_info": {
   "codemirror_mode": {
    "name": "ipython",
    "version": 3
   },
   "file_extension": ".py",
   "mimetype": "text/x-python",
   "name": "python",
   "nbconvert_exporter": "python",
   "pygments_lexer": "ipython3",
   "version": "3.10.4"
  }
 },
 "nbformat": 4,
 "nbformat_minor": 2
}
