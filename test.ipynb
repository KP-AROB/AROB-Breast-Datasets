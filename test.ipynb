{
 "cells": [
  {
   "cell_type": "code",
   "execution_count": 4,
   "metadata": {},
   "outputs": [],
   "source": [
    "from src.datasets.inbreast import InbreastDataset\n",
    "from src.pipeline.breast import BreastImageProcessingPipeline\n",
    "\n",
    "pipeline = BreastImageProcessingPipeline()\n",
    "dataset = InbreastDataset('/media/nvidia/DATA/Data/inbreast/data/', pipeline, 'lesion')"
   ]
  }
 ],
 "metadata": {
  "language_info": {
   "name": "python"
  }
 },
 "nbformat": 4,
 "nbformat_minor": 2
}
